{
 "cells": [
  {
   "cell_type": "code",
   "execution_count": 19,
   "id": "6a585915",
   "metadata": {},
   "outputs": [],
   "source": [
    "import numpy as np\n",
    "import pandas as pd\n",
    "import matplotlib.pyplot as plt\n",
    "from sklearn import neighbors\n",
    "from sklearn.metrics import mean_squared_error \n",
    "from math import sqrt\n",
    "import matplotlib.pyplot as plt\n",
    "%matplotlib inline"
   ]
  },
  {
   "cell_type": "code",
   "execution_count": 20,
   "id": "899d3cf8",
   "metadata": {},
   "outputs": [],
   "source": [
    "train_df = pd.read_csv('train.csv')\n",
    "# print(train_df.head())\n",
    "test_df = pd.read_csv('test.csv')\n",
    "# print(test_df.head())"
   ]
  },
  {
   "cell_type": "code",
   "execution_count": 21,
   "id": "c8058b71",
   "metadata": {},
   "outputs": [
    {
     "name": "stdout",
     "output_type": "stream",
     "text": [
      "ID                         0\n",
      "datetime                   0\n",
      "temperature                0\n",
      "var1                       0\n",
      "pressure                   0\n",
      "windspeed                  0\n",
      "var2                       0\n",
      "electricity_consumption    0\n",
      "dtype: int64\n",
      "ID             0\n",
      "datetime       0\n",
      "temperature    0\n",
      "var1           0\n",
      "pressure       0\n",
      "windspeed      0\n",
      "var2           0\n",
      "dtype: int64\n"
     ]
    }
   ],
   "source": [
    "print(train_df.isnull().sum())\n",
    "print(test_df.isnull().sum())"
   ]
  },
  {
   "cell_type": "code",
   "execution_count": 22,
   "id": "d0a78f38",
   "metadata": {},
   "outputs": [],
   "source": [
    "train_df['day'] = pd.to_datetime(train_df['datetime']).dt.day\n",
    "train_df['month'] = pd.to_datetime(train_df['datetime']).dt.month\n",
    "train_df['year'] = pd.to_datetime(train_df['datetime']).dt.year\n",
    "train_df['hour'] = pd.to_datetime(train_df['datetime']).dt.hour\n",
    "\n",
    "\n",
    "test_df['new_date'] = pd.to_datetime(test_df['datetime']).dt.day\n",
    "test_df['new_time'] = pd.to_datetime(test_df['datetime']).dt.month\n",
    "test_df['new_date'] = pd.to_datetime(test_df['datetime']).dt.year\n",
    "test_df['new_time'] = pd.to_datetime(test_df['datetime']).dt.hour"
   ]
  },
  {
   "cell_type": "code",
   "execution_count": 23,
   "id": "7bc4e498",
   "metadata": {},
   "outputs": [],
   "source": [
    "# example of a one hot encoding\n",
    "from numpy import asarray\n",
    "from sklearn.preprocessing import OneHotEncoder\n",
    "\n",
    "# define one hot encoding\n",
    "encoder = OneHotEncoder(sparse=False)\n",
    "\n",
    "# transform data\n",
    "onehot_train = encoder.fit_transform(asarray(train_df['var2']).reshape(-1,1))\n",
    "# print(onehot_train)\n",
    "onehot_test = encoder.fit_transform(asarray(test_df['var2']).reshape(-1,1))\n",
    "# print(onehot_test)"
   ]
  },
  {
   "cell_type": "code",
   "execution_count": 24,
   "id": "daa89267",
   "metadata": {
    "scrolled": true
   },
   "outputs": [],
   "source": [
    "train_df[['var2_1', 'var2_2', 'var2_3']] = onehot_train\n",
    "# print(train_df)\n",
    "test_df[['var2_1', 'var2_2', 'var2_3']] = onehot_test\n",
    "# print(test_df)"
   ]
  },
  {
   "cell_type": "code",
   "execution_count": 25,
   "id": "4f2673a2",
   "metadata": {},
   "outputs": [
    {
     "name": "stdout",
     "output_type": "stream",
     "text": [
      "       temperature  var1  pressure  windspeed  electricity_consumption  day  \\\n",
      "0            -11.4 -17.1    1003.0    571.910                    216.0    1   \n",
      "1            -12.1 -19.3     996.0    575.040                    210.0    1   \n",
      "2            -12.9 -20.0    1000.0    578.435                    225.0    1   \n",
      "3            -11.4 -17.1     995.0    582.580                    216.0    1   \n",
      "4            -11.4 -19.3    1005.0    586.600                    222.0    1   \n",
      "...            ...   ...       ...        ...                      ...  ...   \n",
      "26491         -0.7 -15.0    1009.0     51.685                    225.0   23   \n",
      "26492         -2.9 -11.4    1005.0     56.105                    213.0   23   \n",
      "26493         -1.4 -12.9     995.0     61.275                    213.0   23   \n",
      "26494         -2.9 -11.4     996.0     67.210                    210.0   23   \n",
      "26495         -2.1 -11.4    1009.0     71.880                    210.0   23   \n",
      "\n",
      "       month  year  hour  var2_1  var2_2  var2_3  \n",
      "0          7  2013     0     1.0     0.0     0.0  \n",
      "1          7  2013     1     1.0     0.0     0.0  \n",
      "2          7  2013     2     1.0     0.0     0.0  \n",
      "3          7  2013     3     1.0     0.0     0.0  \n",
      "4          7  2013     4     1.0     0.0     0.0  \n",
      "...      ...   ...   ...     ...     ...     ...  \n",
      "26491      6  2017    19     1.0     0.0     0.0  \n",
      "26492      6  2017    20     1.0     0.0     0.0  \n",
      "26493      6  2017    21     1.0     0.0     0.0  \n",
      "26494      6  2017    22     1.0     0.0     0.0  \n",
      "26495      6  2017    23     1.0     0.0     0.0  \n",
      "\n",
      "[26496 rows x 12 columns]\n",
      "      temperature  var1  pressure  windspeed  new_date  new_time  var2_1  \\\n",
      "0           -10.0 -16.4    1011.0    263.280      2013         0     1.0   \n",
      "1           -10.0 -20.7    1011.0    267.175      2013         1     1.0   \n",
      "2           -10.7 -17.1    1003.0    269.555      2013         2     1.0   \n",
      "3           -13.6 -20.7    1008.0    273.060      2013         3     1.0   \n",
      "4           -10.7 -17.1    1006.0      1.765      2013         4     1.0   \n",
      "...           ...   ...       ...        ...       ...       ...     ...   \n",
      "8563         -5.7 -18.6     998.0    233.595      2017        19     1.0   \n",
      "8564         -5.7 -17.1     995.0    238.780      2017        20     1.0   \n",
      "8565         -7.1 -19.3    1004.0    244.325      2017        21     1.0   \n",
      "8566         -6.4 -19.3    1008.0    247.470      2017        22     1.0   \n",
      "8567         -5.0 -16.4    1001.0    250.600      2017        23     1.0   \n",
      "\n",
      "      var2_2  var2_3  \n",
      "0        0.0     0.0  \n",
      "1        0.0     0.0  \n",
      "2        0.0     0.0  \n",
      "3        0.0     0.0  \n",
      "4        0.0     0.0  \n",
      "...      ...     ...  \n",
      "8563     0.0     0.0  \n",
      "8564     0.0     0.0  \n",
      "8565     0.0     0.0  \n",
      "8566     0.0     0.0  \n",
      "8567     0.0     0.0  \n",
      "\n",
      "[8568 rows x 9 columns]\n"
     ]
    }
   ],
   "source": [
    "new_train = train_df.drop(['var2', 'datetime', 'ID'], axis = 1)\n",
    "new_test = test_df.drop(['var2', 'datetime', 'ID'], axis = 1)\n",
    "print(new_train)\n",
    "print(new_test)"
   ]
  },
  {
   "cell_type": "code",
   "execution_count": 26,
   "id": "952f27cb",
   "metadata": {},
   "outputs": [
    {
     "name": "stdout",
     "output_type": "stream",
     "text": [
      "RMSE value is: 0.004708896789792069\n"
     ]
    }
   ],
   "source": [
    "from sklearn.model_selection import train_test_split\n",
    "from sklearn import preprocessing\n",
    "from sklearn.metrics import accuracy_score\n",
    "\n",
    "\n",
    "\n",
    "dependent = new_train.iloc[:, [0, 1, 2, 3, 5, 6, 7, 8, 9, 10, 11]]\n",
    "# print(independent)\n",
    "independent = new_train.iloc[:, 4]\n",
    "\n",
    "\n",
    "x_train, x_validation, y_train, y_validation = train_test_split(dependent, independent, train_size = 0.7, shuffle = True, random_state = 5)\n",
    "#     print(x_train)\n",
    "\n",
    "# Normalization\n",
    "x_train_normalize = preprocessing.normalize(x_train)\n",
    "y_train_normalize = preprocessing.normalize(np.asarray(y_train).reshape(1, -1))\n",
    "x_validation_normalize = preprocessing.normalize(x_validation)\n",
    "y_validation_normalize = preprocessing.normalize(np.asarray(y_validation).reshape(1, -1))\n",
    "\n",
    "model = neighbors.KNeighborsRegressor(n_neighbors = 5)\n",
    "model.fit(x_train_normalize, y_train_normalize.reshape(-1,1))  #fit the model\n",
    "pred=model.predict(x_validation_normalize) #make prediction on test set\n",
    "# print(mean_squared_error(y_validation, pred))\n",
    "rmse = sqrt(mean_squared_error(y_validation_normalize.reshape(-1,1), pred)) #calculate rmse\n",
    "#store rmse values\n",
    "print('RMSE value is:', rmse)\n",
    "# accuracy = accuracy_score(y_validation_normalize.reshape(-1,1), pred)\n",
    "\n",
    "    \n",
    "    \n",
    "    "
   ]
  },
  {
   "cell_type": "code",
   "execution_count": 27,
   "id": "53174a06",
   "metadata": {},
   "outputs": [
    {
     "data": {
      "text/plain": [
       "0.004990081877683208"
      ]
     },
     "execution_count": 27,
     "metadata": {},
     "output_type": "execute_result"
    }
   ],
   "source": [
    "from sklearn.linear_model import LinearRegression\n",
    "\n",
    "regr = LinearRegression()\n",
    "\n",
    "regr.fit(x_train_normalize, y_train_normalize.reshape(-1,1))\n",
    "\n",
    "pred_lm = regr.predict(x_validation_normalize)\n",
    "\n",
    "rmse_lm = sqrt(mean_squared_error(y_validation_normalize.reshape(-1,1), pred_lm))\n",
    "rmse_lm"
   ]
  },
  {
   "cell_type": "code",
   "execution_count": 29,
   "id": "31fda207",
   "metadata": {},
   "outputs": [
    {
     "data": {
      "image/png": "[encoded data removed]",
      "text/plain": [
       "<Figure size 864x432 with 1 Axes>"
      ]
     },
     "metadata": {
      "needs_background": "light"
     },
     "output_type": "display_data"
    }
   ],
   "source": [
    "plt.figure(figsize=(12, 6))\n",
    "plt.plot(pred)\n",
    "plt.plot(pred_lm)\n",
    "plt.title(\"RMSE Score Comparison between KNN Regression Model and Linear Regression Model\")\n",
    "plt.show()"
   ]
  },
  {
   "cell_type": "code",
   "execution_count": null,
   "id": "998dbc69",
   "metadata": {},
   "outputs": [],
   "source": []
  },
  {
   "cell_type": "code",
   "execution_count": null,
   "id": "97f0c884",
   "metadata": {},
   "outputs": [],
   "source": []
  },
  {
   "cell_type": "code",
   "execution_count": null,
   "id": "3e5fdaef",
   "metadata": {},
   "outputs": [],
   "source": []
  },
  {
   "cell_type": "code",
   "execution_count": null,
   "id": "0d5381a0",
   "metadata": {},
   "outputs": [],
   "source": []
  },
  {
   "cell_type": "code",
   "execution_count": null,
   "id": "3faa1054",
   "metadata": {},
   "outputs": [],
   "source": []
  },
  {
   "cell_type": "code",
   "execution_count": null,
   "id": "f1e5ddbf",
   "metadata": {},
   "outputs": [],
   "source": []
  },
  {
   "cell_type": "code",
   "execution_count": null,
   "id": "51be7d4c",
   "metadata": {},
   "outputs": [],
   "source": []
  },
  {
   "cell_type": "code",
   "execution_count": null,
   "id": "4068b5cd",
   "metadata": {},
   "outputs": [],
   "source": []
  },
  {
   "cell_type": "code",
   "execution_count": null,
   "id": "acb1215a",
   "metadata": {},
   "outputs": [],
   "source": []
  }
 ],
 "metadata": {
  "kernelspec": {
   "display_name": "Python 3 (ipykernel)",
   "language": "python",
   "name": "python3"
  },
  "language_info": {
   "codemirror_mode": {
    "name": "ipython",
    "version": 3
   },
   "file_extension": ".py",
   "mimetype": "text/x-python",
   "name": "python",
   "nbconvert_exporter": "python",
   "pygments_lexer": "ipython3",
   "version": "3.10.5"
  }
 },
 "nbformat": 4,
 "nbformat_minor": 5
}
